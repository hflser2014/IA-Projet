{
 "cells": [
  {
   "cell_type": "markdown",
   "metadata": {},
   "source": [
    "# 0X01 Génération des parties"
   ]
  },
  {
   "cell_type": "code",
   "execution_count": 273,
   "metadata": {},
   "outputs": [],
   "source": [
    "import numpy as np\n"
   ]
  },
  {
   "cell_type": "code",
   "execution_count": 274,
   "metadata": {},
   "outputs": [],
   "source": [
    "coups = []\n",
    "for i in range(1, 7):\n",
    "    for j in range(i + 1, 7):\n",
    "        coups.append({i, j})\n"
   ]
  },
  {
   "cell_type": "code",
   "execution_count": 275,
   "metadata": {},
   "outputs": [],
   "source": [
    "class partie:\n",
    "    def __init__(self):\n",
    "        \"\"\"\n",
    "        生成单次对局\n",
    "        \"\"\"\n",
    "        # Initialisation\n",
    "        self.liste = [np.random.choice(range(15))]\n",
    "        i = self.liste[-1]\n",
    "        # La suite\n",
    "        while i != 30:\n",
    "            interdite = self.restriction(\n",
    "                self.liste\n",
    "            )  # Générer les coups interdite selon la règle\n",
    "            possible = list(set(range(15)) - interdite)\n",
    "\n",
    "            if possible != []:\n",
    "                i = np.random.choice(possible)\n",
    "            else:\n",
    "                i = 30\n",
    "\n",
    "            self.liste.append(i)\n",
    "        self.liste.extend(list(np.zeros(16 - len(self.liste))))\n",
    "        self.JI = self.liste[::2]\n",
    "        self.JP = self.liste[1::2]\n",
    "\n",
    "    def restriction(self, liste):\n",
    "        \"\"\"\n",
    "        Donner les coups interdit selon les lignes déjà traitées(conservée dans liste)\n",
    "        指出哪些线是不能画的\n",
    "        \"\"\"\n",
    "        interdite = liste.copy()\n",
    "        if len(liste) < 2:\n",
    "            liste_self = []  # 自己划过的线\n",
    "        else:\n",
    "            liste_self = liste[::-1][1::2][::-1]  # 自己划过的线\n",
    "        for i in liste_self:\n",
    "            # 遍历自己已经画过的线\n",
    "            points = set(range(1, 7))\n",
    "            points = points - coups[i]\n",
    "            for j in points:\n",
    "                # 遍历和线i相连的其他线\n",
    "                x, y = list(coups[i])\n",
    "                m, n = list(set([x, j]))\n",
    "                linenomx = -0.5 * m ** 2 + 5.5 * m + n - 7  # 顶点j对应的一根连线的编号\n",
    "                m, n = list(set([y, j]))\n",
    "                linenomy = -0.5 * m ** 2 + 5.5 * m + n - 7  # 另一根与j连线的编号\n",
    "                if linenomx in liste_self:  # 如果相连的其他线也在liste_self中，那么就可以找到对应三角形的第三边\n",
    "                    interdite.append(linenomy)\n",
    "                elif linenomy in liste_self:\n",
    "                    interdite.append(linenomx)\n",
    "        return set(interdite)\n"
   ]
  },
  {
   "cell_type": "code",
   "execution_count": 276,
   "metadata": {},
   "outputs": [
    {
     "data": {
      "text/plain": [
       "[0, 4, 1, 14, 11, 10, 9, 12, 6, 8, 3, 2, 30, 0.0, 0.0, 0.0]"
      ]
     },
     "execution_count": 276,
     "metadata": {},
     "output_type": "execute_result"
    }
   ],
   "source": [
    "partie().liste\n"
   ]
  },
  {
   "cell_type": "code",
   "execution_count": 277,
   "metadata": {},
   "outputs": [
    {
     "data": {
      "text/plain": [
       "array([[ 6,  0, 12, ..., 30,  0,  0],\n",
       "       [ 1,  6, 13, ..., 30,  0,  0],\n",
       "       [11, 14,  4, ...,  0,  0,  0],\n",
       "       ...,\n",
       "       [ 6, 14,  8, ...,  0,  0,  0],\n",
       "       [ 0,  2, 13, ..., 30,  0,  0],\n",
       "       [ 5,  9,  2, ...,  0, 30,  0]])"
      ]
     },
     "execution_count": 277,
     "metadata": {},
     "output_type": "execute_result"
    }
   ],
   "source": [
    "data = np.array([partie().liste for i in range(1000)]).astype(int)\n",
    "data\n"
   ]
  },
  {
   "cell_type": "markdown",
   "metadata": {},
   "source": [
    "考虑把对局可视化的代码写一下"
   ]
  },
  {
   "cell_type": "markdown",
   "metadata": {},
   "source": [
    "# 1x01 Première analyse "
   ]
  },
  {
   "cell_type": "code",
   "execution_count": 278,
   "metadata": {},
   "outputs": [],
   "source": [
    "import matplotlib.pyplot as plt\n",
    "from sklearn.decomposition import PCA\n"
   ]
  },
  {
   "cell_type": "code",
   "execution_count": 279,
   "metadata": {},
   "outputs": [],
   "source": [
    "pca = PCA(n_components=0.7)  # On se limite aux trois premiers axes\n",
    "A1 = data.copy()\n",
    "res1 = pca.fit(A1)\n"
   ]
  },
  {
   "cell_type": "code",
   "execution_count": 280,
   "metadata": {},
   "outputs": [
    {
     "data": {
      "text/plain": [
       "(array([-0.00135569, -0.01562314, -0.00147731, -0.00124431, -0.00355021,\n",
       "         0.00773584,  0.58250798,  0.05856374]),\n",
       " array([ 0.01546572, -0.01172308, -0.00181511, -0.00785959,  0.00471794,\n",
       "         0.00665644, -0.81020022,  0.        ]))"
      ]
     },
     "execution_count": 280,
     "metadata": {},
     "output_type": "execute_result"
    }
   ],
   "source": [
    "base = res1.components_  # 导出两个主特征向量\n",
    "\n",
    "base[0][0::2], base[0][1::2]\n",
    "\n"
   ]
  },
  {
   "cell_type": "markdown",
   "metadata": {},
   "source": [
    "尝试解读一下这些向量"
   ]
  },
  {
   "cell_type": "code",
   "execution_count": 281,
   "metadata": {},
   "outputs": [
    {
     "data": {
      "image/png": "[encoded data removed]",
      "text/plain": [
       "<Figure size 432x288 with 1 Axes>"
      ]
     },
     "metadata": {
      "needs_background": "light"
     },
     "output_type": "display_data"
    }
   ],
   "source": [
    "XX = res1.transform(A1)\n",
    "\n",
    "n, p = A1.shape\n",
    "for i in range(n):\n",
    "    if (np.where(A1[i] == 30)[-1] % 2) == 0:\n",
    "        plt.scatter(XX[i, 0], XX[i, 1], color=\"r\")  # 红点先手胜\n",
    "        if i == 23:\n",
    "            # plt.text(0, 0,s=str(A1[i]))\n",
    "            plt.text(XX[i, 0], XX[i, 1], s=str(A1[i]))  # 标出一个点的数据，分析一下\n",
    "    else:\n",
    "        plt.scatter(XX[i, 0], XX[i, 1], color=\"b\")  # 蓝点后手胜\n"
   ]
  },
  {
   "cell_type": "markdown",
   "metadata": {},
   "source": [
    "# 1x02 Analyse discriminante"
   ]
  },
  {
   "cell_type": "code",
   "execution_count": 282,
   "metadata": {},
   "outputs": [],
   "source": [
    "A_Gagne = []\n",
    "B_Gagne = []\n",
    "gagneur = []\n",
    "\n",
    "for i in range(n):\n",
    "    if (np.where(A1[i] == 30)[0] % 2) == 0:\n",
    "        A_Gagne.append(list(A1[i]))\n",
    "        gagneur.append(2)\n",
    "    else:\n",
    "        B_Gagne.append(list(A1[i]))\n",
    "        gagneur.append(1)\n",
    "A_Gagne = np.array(A_Gagne)\n",
    "B_Gagne = np.array(B_Gagne)\n"
   ]
  },
  {
   "cell_type": "code",
   "execution_count": 283,
   "metadata": {},
   "outputs": [],
   "source": [
    "from sklearn.discriminant_analysis import LinearDiscriminantAnalysis as lda\n"
   ]
  },
  {
   "cell_type": "code",
   "execution_count": 284,
   "metadata": {},
   "outputs": [],
   "source": [
    "my_lda = lda(n_components=1)  # 这里不让我n_components大于1（就是主平面只有1维），暂时不知道问题出在哪\n",
    "res = my_lda.fit(data, gagneur)\n",
    "X = res.transform(data)  # Une projection ? Laquelle ??\n",
    "\n"
   ]
  },
  {
   "cell_type": "code",
   "execution_count": 285,
   "metadata": {},
   "outputs": [
    {
     "data": {
      "text/plain": [
       "<matplotlib.collections.PathCollection at 0x2398cf44a88>"
      ]
     },
     "execution_count": 285,
     "metadata": {},
     "output_type": "execute_result"
    },
    {
     "data": {
      "image/png": "[encoded data removed]",
      "text/plain": [
       "<Figure size 432x288 with 1 Axes>"
      ]
     },
     "metadata": {
      "needs_background": "light"
     },
     "output_type": "display_data"
    }
   ],
   "source": [
    "plt.scatter(X[:, 0], X[:, 0], c=gagneur)  # 右上先手胜，左下后手胜\n",
    "# for i in range(len(a)):\n",
    "#    plt.text(X[i, 0], X[i, 1], s=Noms[i])\n"
   ]
  },
  {
   "cell_type": "markdown",
   "metadata": {},
   "source": [
    "# 2x01 Construction de fonction d'évaluation"
   ]
  },
  {
   "cell_type": "code",
   "execution_count": null,
   "metadata": {},
   "outputs": [],
   "source": []
  },
  {
   "cell_type": "markdown",
   "metadata": {},
   "source": [
    "# 2x02 实现min-max"
   ]
  },
  {
   "cell_type": "code",
   "execution_count": 286,
   "metadata": {},
   "outputs": [],
   "source": [
    "def restriction(mes_coups, oppo_coups):\n",
    "    liste = set.union(mes_coups, oppo_coups)\n",
    "    interditeI = liste.copy()\n",
    "\n",
    "    for i in mes_coups:\n",
    "        # 遍历自己已经画过的线\n",
    "        points = set(range(1, 7))\n",
    "        points = points - coups[i]\n",
    "        for j in points:\n",
    "            # 遍历和线i相连的其他线\n",
    "            x, y = list(coups[i])\n",
    "            m, n = list(set([x, j]))\n",
    "            linenomx = -0.5 * m ** 2 + 5.5 * m + n - 7  # 顶点j对应的一根连线的编号\n",
    "            m, n = list(set([y, j]))\n",
    "            linenomy = -0.5 * m ** 2 + 5.5 * m + n - 7  # 另一根与j连线的编号\n",
    "            if linenomx in mes_coups:  # 如果相连的其他线也在self.JI中，那么就可以找到对应三角形的第三边\n",
    "                interditeI.add(linenomy)\n",
    "            elif linenomy in mes_coups:\n",
    "                interditeI.add(linenomx)\n",
    "    return set(range(15)) - interditeI\n"
   ]
  },
  {
   "cell_type": "code",
   "execution_count": 287,
   "metadata": {},
   "outputs": [],
   "source": [
    "def minmax(coup, depth, maximizing=True):\n",
    "    if depth == 0 or coup.isLeaf() == True:\n",
    "        return coup.score\n",
    "    coup.predict()\n",
    "    if maximizing:\n",
    "        maxEval = -np.infty\n",
    "        for child in coup.children:\n",
    "            eval = minmax(child, depth - 1, False)\n",
    "            maxEval = max(maxEval, eval)\n",
    "        return maxEval\n",
    "    else:\n",
    "        minEval = np.infty\n",
    "        for child in coup.children:\n",
    "            eval = minmax(child, depth - 1, True)\n",
    "            minEval = min(minEval, eval)\n",
    "        return minEval\n"
   ]
  },
  {
   "cell_type": "code",
   "execution_count": 288,
   "metadata": {},
   "outputs": [],
   "source": [
    "class coup:\n",
    "    def __init__(self, JI, JP, moi=True):\n",
    "        \"\"\"\n",
    "        JI: 储存了先手玩家画线情况\n",
    "        JP: 储存后手玩家情况\n",
    "        \"\"\"\n",
    "        self.JI, self.JP = JI, JP\n",
    "        self.type = moi  # 若为真，则为max节点\n",
    "        self.possible = restriction(self.JI, self.JP)\n",
    "        self.eval()\n",
    "\n",
    "    def eval(self):\n",
    "        \"\"\"\n",
    "        给这个节点打分（用了剩余可画线数的方式评分）\n",
    "        分数保存到self.score\n",
    "        \"\"\"\n",
    "        if (len(self.JI) + len(self.JP)) % 2 == 0 and self.type:\n",
    "            self.score = len(restriction(self.JI, self.JP))\n",
    "        else:\n",
    "            self.score = len(restriction(self.JP, self.JI))\n",
    "\n",
    "    def predict(self):\n",
    "        \"\"\"\n",
    "        遍历下一步的可能性\n",
    "        \"\"\"\n",
    "        if self.isLeaf() == False:\n",
    "            self.children = []\n",
    "            for i in self.possible:\n",
    "                if (len(self.JI) + len(self.JP)) % 2 == 0:\n",
    "                    self.children.append(\n",
    "                        coup(set.union(self.JI, set([i])), self.JP, not self.type)\n",
    "                    )\n",
    "                else:\n",
    "                    self.children.append(\n",
    "                        coup(self.JI, set.union(self.JP, set([i])), not self.type)\n",
    "                    )\n",
    "\n",
    "    def isLeaf(self):\n",
    "        \"\"\"判断某结点是否为最终结点（无子结点）\"\"\"\n",
    "        if len(list(self.possible)) == 0:\n",
    "            return True\n",
    "        else:\n",
    "            return False\n"
   ]
  },
  {
   "cell_type": "code",
   "execution_count": 289,
   "metadata": {},
   "outputs": [
    {
     "data": {
      "text/plain": [
       "({4, 8, 13}, {5, 10, 14})"
      ]
     },
     "execution_count": 289,
     "metadata": {},
     "output_type": "execute_result"
    }
   ],
   "source": [
    "# 生成一个对局情况\n",
    "n = 3\n",
    "liste = partie().liste\n",
    "JI, JP = set(liste[: 2 * n - 1 : 2]), set(liste[1 : 2 * n : 2])\n",
    "JI, JP\n"
   ]
  },
  {
   "cell_type": "code",
   "execution_count": 290,
   "metadata": {},
   "outputs": [
    {
     "data": {
      "text/plain": [
       "[({1, 4, 8, 13}, {5, 10, 14}),\n",
       " ({3, 4, 8, 13}, {5, 10, 14}),\n",
       " ({4, 7, 8, 13}, {5, 10, 14}),\n",
       " ({4, 8, 9, 13}, {5, 10, 14}),\n",
       " ({4, 8, 11, 13}, {5, 10, 14}),\n",
       " ({4, 8, 12, 13}, {5, 10, 14})]"
      ]
     },
     "execution_count": 290,
     "metadata": {},
     "output_type": "execute_result"
    }
   ],
   "source": [
    "coup1 = coup(JI, JP, True)\n",
    "coup1.predict()\n",
    "[(child.JI, child.JP) for child in coup1.children]\n",
    "\n"
   ]
  },
  {
   "cell_type": "code",
   "execution_count": 291,
   "metadata": {},
   "outputs": [
    {
     "data": {
      "text/plain": [
       "[2, 0, 0, 2, 0, 0]"
      ]
     },
     "execution_count": 291,
     "metadata": {},
     "output_type": "execute_result"
    }
   ],
   "source": [
    "[minmax(child, 30, False) for child in coup1.children]\n",
    "\n"
   ]
  },
  {
   "cell_type": "code",
   "execution_count": 292,
   "metadata": {},
   "outputs": [],
   "source": [
    "class game:\n",
    "    def __init__(self, JI, JP):\n",
    "        self.JI = JI\n",
    "        self.JP = JP\n",
    "\n",
    "    def update(self, JI=set(), JP=set()):\n",
    "        self.JI += JI\n",
    "        self.JP += JP\n",
    "\n",
    "\n",
    "def choix(JI, JP, maximizing=True):  # todo\n",
    "    node = coup(JI, JP, maximizing)\n",
    "    children_score = [minmax_ab(child, 30, not node.type) for child in node.children]\n",
    "    Optimal = max(children_score)\n",
    "    i = np.where(children_score == Optimal)\n",
    "    child_pris = node.children[i]\n",
    "    no = set.union(child_pris.JI, child_pris.JP) - set.union(node.JI, node.JP)\n",
    "    return no\n",
    "\n"
   ]
  },
  {
   "cell_type": "markdown",
   "metadata": {},
   "source": [
    "# 2x03 alpha-beta pruning"
   ]
  },
  {
   "cell_type": "code",
   "execution_count": 293,
   "metadata": {},
   "outputs": [],
   "source": [
    "def minmax_ab(coup, depth, maximizing=True, alpha=-np.infty, beta=np.infty):\n",
    "    if depth == 0 or coup.isLeaf() == True:\n",
    "        return coup.score\n",
    "    coup.predict()\n",
    "    if maximizing:\n",
    "        maxEval = -np.infty\n",
    "        for child in coup.children:\n",
    "            eval = minmax_ab(child, depth - 1, False, alpha, beta)\n",
    "            maxEval = max(maxEval, eval)\n",
    "            alpha = max(alpha, eval)\n",
    "            if beta <= alpha:\n",
    "                break\n",
    "        return maxEval\n",
    "    else:\n",
    "        minEval = np.infty\n",
    "        for child in coup.children:\n",
    "            eval = minmax_ab(child, depth - 1, True, alpha, beta)\n",
    "            minEval = min(minEval, eval)\n",
    "            beta = min(beta, eval)\n",
    "            if beta <= alpha:\n",
    "                break\n",
    "        return minEval\n",
    "\n"
   ]
  },
  {
   "cell_type": "code",
   "execution_count": 294,
   "metadata": {},
   "outputs": [],
   "source": [
    "# 生成一个对局情况\n",
    "n = 2\n",
    "liste = partie().liste\n",
    "JI, JP = set(liste[: 2 * n - 1 : 2]), set(liste[1 : 2 * n : 2])\n",
    "JI, JP\n",
    "coup1 = coup(JI, JP)\n",
    "coup1.predict()\n"
   ]
  },
  {
   "cell_type": "code",
   "execution_count": 295,
   "metadata": {},
   "outputs": [
    {
     "data": {
      "text/plain": [
       "[1, 1, 1, 0, 1, 1, 1, 2, 1, 1]"
      ]
     },
     "execution_count": 295,
     "metadata": {},
     "output_type": "execute_result"
    }
   ],
   "source": [
    "[minmax_ab(child, 30, False) for child in coup1.children]\n",
    "\n"
   ]
  },
  {
   "cell_type": "code",
   "execution_count": 296,
   "metadata": {},
   "outputs": [
    {
     "data": {
      "text/plain": [
       "[1, 1, 1, 0, 1, 1, 1, 2, 1, 1]"
      ]
     },
     "execution_count": 296,
     "metadata": {},
     "output_type": "execute_result"
    }
   ],
   "source": [
    "[minmax(child, 30, False) for child in coup1.children]\n",
    "\n"
   ]
  },
  {
   "cell_type": "code",
   "execution_count": 297,
   "metadata": {},
   "outputs": [
    {
     "data": {
      "text/plain": [
       "{11}"
      ]
     },
     "execution_count": 297,
     "metadata": {},
     "output_type": "execute_result"
    }
   ],
   "source": [
    "def choix(JI, JP):  # todo\n",
    "    node = coup(JI, JP, True)\n",
    "    node.predict()\n",
    "    children_score = [minmax_ab(child, 30, not node.type) for child in node.children]\n",
    "\n",
    "    i = np.argmax(children_score)\n",
    "    child_pris = node.children[i]\n",
    "    no = set.union(child_pris.JI, child_pris.JP) - set.union(node.JI, node.JP)\n",
    "    return no\n",
    "\n",
    "\n",
    "choix(JI, JP)\n",
    "\n"
   ]
  },
  {
   "cell_type": "code",
   "execution_count": null,
   "metadata": {},
   "outputs": [],
   "source": []
  }
 ],
 "metadata": {
  "interpreter": {
   "hash": "b57eb35ccf7b1e82982c2b74f490bf74826478bc33921aaf32e018eec6aca0fa"
  },
  "kernelspec": {
   "display_name": "Python 3.7.9 ('env0')",
   "language": "python",
   "name": "python3"
  },
  "language_info": {
   "codemirror_mode": {
    "name": "ipython",
    "version": 3
   },
   "file_extension": ".py",
   "mimetype": "text/x-python",
   "name": "python",
   "nbconvert_exporter": "python",
   "pygments_lexer": "ipython3",
   "version": "3.7.9"
  },
  "orig_nbformat": 4
 },
 "nbformat": 4,
 "nbformat_minor": 2
}
