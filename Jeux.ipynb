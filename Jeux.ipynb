{
 "cells": [
  {
   "cell_type": "markdown",
   "metadata": {},
   "source": [
    "# 0X01 Génération des parties"
   ]
  },
  {
   "cell_type": "code",
   "execution_count": 1,
   "metadata": {},
   "outputs": [],
   "source": [
    "import numpy as np\n"
   ]
  },
  {
   "cell_type": "code",
   "execution_count": 2,
   "metadata": {},
   "outputs": [],
   "source": [
    "coups = []\n",
    "for i in range(1, 7):\n",
    "    for j in range(i + 1, 7):\n",
    "        coups.append({i, j})\n"
   ]
  },
  {
   "cell_type": "code",
   "execution_count": 3,
   "metadata": {},
   "outputs": [],
   "source": [
    "def gen_single():\n",
    "    \"\"\"\n",
    "    生成单次对局\n",
    "    \"\"\"\n",
    "    # Initialisation\n",
    "    liste = [np.random.choice(range(15))]\n",
    "    i = liste[-1]\n",
    "    # La suite\n",
    "    while i != 30:\n",
    "        interdite = restriction(liste)  # Générer les coups interdite selon la règle\n",
    "        possible = list(set(range(15)) - interdite)\n",
    "\n",
    "        if possible != []:\n",
    "            i = np.random.choice(possible)\n",
    "        else:\n",
    "            i = 30\n",
    "\n",
    "        liste.append(i)\n",
    "    liste.extend(list(np.zeros(14 - len(liste))))\n",
    "    return liste\n",
    "\n",
    "\n",
    "def restriction(liste):\n",
    "    \"\"\"\n",
    "    Donner les coups interdit selon les lignes déjà traitées(conservée dans liste)\n",
    "    指出哪些线是不能画的\n",
    "    \"\"\"\n",
    "    interdite = liste.copy()\n",
    "    for i in liste:\n",
    "        # 遍历已经画过的线\n",
    "        points = set(range(1, 7))\n",
    "        points = points - coups[i]\n",
    "        for j in points:\n",
    "            # 遍历和线i相连的其他线\n",
    "            x, y = list(coups[i])\n",
    "            m, n = list(set([x, j]))\n",
    "            linenomx = -0.5 * m ** 2 + 5.5 * m + n - 7  # 顶点j对应的一根连线的编号\n",
    "            m, n = list(set([y, j]))\n",
    "            linenomy = -0.5 * m ** 2 + 5.5 * m + n - 7  # 另一根与j连线的编号\n",
    "            if linenomx in liste:  # 如果相连的其他线也在liste中，那么就可以找到对应三角形的第三边\n",
    "                interdite.append(linenomy)\n",
    "            elif linenomy in liste:\n",
    "                interdite.append(linenomx)\n",
    "    return set(interdite)\n"
   ]
  },
  {
   "cell_type": "code",
   "execution_count": 4,
   "metadata": {},
   "outputs": [
    {
     "data": {
      "text/plain": [
       "array([[ 8, 13,  9, ...,  0,  0,  0],\n",
       "       [ 0, 12,  1, ...,  0,  0,  0],\n",
       "       [ 0,  6, 13, ...,  0,  0,  0],\n",
       "       ...,\n",
       "       [ 4,  8,  5, ...,  0,  0,  0],\n",
       "       [ 8,  7,  0, ...,  0,  0,  0],\n",
       "       [ 5,  6,  7, ...,  0,  0,  0]])"
      ]
     },
     "execution_count": 4,
     "metadata": {},
     "output_type": "execute_result"
    }
   ],
   "source": [
    "data = np.array([gen_single() for i in range(1000)]).astype(int)\n",
    "data\n"
   ]
  },
  {
   "cell_type": "markdown",
   "metadata": {},
   "source": [
    "考虑把对局可视化的代码写一下"
   ]
  },
  {
   "cell_type": "markdown",
   "metadata": {},
   "source": [
    "# 1x01 Première analyse "
   ]
  },
  {
   "cell_type": "code",
   "execution_count": 5,
   "metadata": {},
   "outputs": [],
   "source": [
    "import matplotlib.pyplot as plt\n",
    "from sklearn.decomposition import PCA\n"
   ]
  },
  {
   "cell_type": "code",
   "execution_count": 6,
   "metadata": {},
   "outputs": [],
   "source": [
    "pca = PCA(n_components=3)  # On se limite aux trois premiers axes\n",
    "A1 = data\n",
    "res1 = pca.fit(A1)\n"
   ]
  },
  {
   "cell_type": "code",
   "execution_count": 7,
   "metadata": {},
   "outputs": [
    {
     "data": {
      "text/plain": [
       "array([[-9.86756911e-03,  3.49918752e-05,  6.92342442e-03,\n",
       "         2.36915097e-03,  1.93999025e-02, -4.47817152e-03,\n",
       "         2.28969728e-03, -5.47533477e-01,  4.15191285e-02,\n",
       "         8.35422458e-01,  0.00000000e+00,  0.00000000e+00,\n",
       "         0.00000000e+00, -0.00000000e+00],\n",
       "       [ 1.18770802e-02, -2.06051933e-02, -4.38083639e-03,\n",
       "         5.75292102e-03, -2.57525834e-03,  5.54790013e-03,\n",
       "        -1.10459793e-03, -4.52406471e-01,  8.25182342e-01,\n",
       "        -3.37262404e-01,  0.00000000e+00,  0.00000000e+00,\n",
       "         0.00000000e+00, -0.00000000e+00],\n",
       "       [ 3.83602172e-02, -2.11901407e-01, -1.77101175e-01,\n",
       "         3.14342283e-02,  1.12122102e-02,  8.91948922e-01,\n",
       "        -1.87964161e-01, -2.09460187e-01, -1.77739873e-01,\n",
       "        -1.21569731e-01, -0.00000000e+00, -0.00000000e+00,\n",
       "        -0.00000000e+00, -0.00000000e+00]])"
      ]
     },
     "execution_count": 7,
     "metadata": {},
     "output_type": "execute_result"
    }
   ],
   "source": [
    "res1.components_  # 导出两个主特征向量\n",
    "\n"
   ]
  },
  {
   "cell_type": "markdown",
   "metadata": {},
   "source": [
    "尝试解读一下这些向量"
   ]
  },
  {
   "cell_type": "code",
   "execution_count": 8,
   "metadata": {},
   "outputs": [
    {
     "data": {
      "image/png": "[encoded data removed]",
      "text/plain": [
       "<Figure size 432x288 with 1 Axes>"
      ]
     },
     "metadata": {
      "needs_background": "light"
     },
     "output_type": "display_data"
    }
   ],
   "source": [
    "XX = res1.transform(A1)\n",
    "\n",
    "n, p = A1.shape\n",
    "for i in range(n):\n",
    "    if (np.where(A1[i] == 30)[-1] % 2) == 0:\n",
    "        plt.scatter(XX[i, 0], XX[i, 1], color=\"r\")  # 红点先手胜\n",
    "    else:\n",
    "        plt.scatter(XX[i, 0], XX[i, 1], color=\"b\")  # 蓝点后手胜\n"
   ]
  },
  {
   "cell_type": "markdown",
   "metadata": {},
   "source": [
    "# 1x02 Analyse discriminante"
   ]
  },
  {
   "cell_type": "code",
   "execution_count": 9,
   "metadata": {},
   "outputs": [],
   "source": [
    "A_Gagne = []\n",
    "B_Gagne = []\n",
    "gagneur = []\n",
    "\n",
    "for i in range(n):\n",
    "    if (np.where(A1[i] == 30)[0] % 2) == 0:\n",
    "        A_Gagne.append(list(A1[i]))\n",
    "        gagneur.append(2)\n",
    "    else:\n",
    "        B_Gagne.append(list(A1[i]))\n",
    "        gagneur.append(1)\n",
    "A_Gagne = np.array(A_Gagne)\n",
    "B_Gagne = np.array(B_Gagne)"
   ]
  },
  {
   "cell_type": "code",
   "execution_count": 10,
   "metadata": {},
   "outputs": [],
   "source": [
    "from sklearn.discriminant_analysis import LinearDiscriminantAnalysis as lda"
   ]
  },
  {
   "cell_type": "code",
   "execution_count": 11,
   "metadata": {},
   "outputs": [],
   "source": [
    "my_lda = lda(n_components=1) # 这里不让我n_components大于1（就是主平面只有1维），暂时不知道问题出在哪\n",
    "res = my_lda.fit(A1, gagneur)\n",
    "X = res.transform(A1)            # Une projection ? Laquelle ??"
   ]
  },
  {
   "cell_type": "code",
   "execution_count": 12,
   "metadata": {},
   "outputs": [
    {
     "data": {
      "text/plain": [
       "<matplotlib.collections.PathCollection at 0x25d795e3488>"
      ]
     },
     "execution_count": 12,
     "metadata": {},
     "output_type": "execute_result"
    },
    {
     "data": {
      "image/png": "[encoded data removed]",
      "text/plain": [
       "<Figure size 432x288 with 1 Axes>"
      ]
     },
     "metadata": {
      "needs_background": "light"
     },
     "output_type": "display_data"
    }
   ],
   "source": [
    "plt.scatter(X[:, 0], X[:, 0], c=gagneur)\n",
    "#for i in range(len(a)):\n",
    "#    plt.text(X[i, 0], X[i, 1], s=Noms[i])"
   ]
  },
  {
   "cell_type": "markdown",
   "metadata": {},
   "source": [
    "# 2x01 Construction de fonction d'évaluation"
   ]
  },
  {
   "cell_type": "code",
   "execution_count": 13,
   "metadata": {},
   "outputs": [],
   "source": [
    "def choix():\n",
    "    no = 0\n",
    "    return no\n"
   ]
  },
  {
   "cell_type": "code",
   "execution_count": null,
   "metadata": {},
   "outputs": [],
   "source": []
  }
 ],
 "metadata": {
  "interpreter": {
   "hash": "b57eb35ccf7b1e82982c2b74f490bf74826478bc33921aaf32e018eec6aca0fa"
  },
  "kernelspec": {
   "display_name": "Python 3.7.9 ('env0')",
   "language": "python",
   "name": "python3"
  },
  "language_info": {
   "codemirror_mode": {
    "name": "ipython",
    "version": 3
   },
   "file_extension": ".py",
   "mimetype": "text/x-python",
   "name": "python",
   "nbconvert_exporter": "python",
   "pygments_lexer": "ipython3",
   "version": "3.7.9"
  },
  "orig_nbformat": 4
 },
 "nbformat": 4,
 "nbformat_minor": 2
}
