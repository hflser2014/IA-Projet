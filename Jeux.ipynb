{
 "cells": [
  {
   "cell_type": "markdown",
   "metadata": {},
   "source": [
    "# 0X01 Génération des parties"
   ]
  },
  {
   "cell_type": "code",
   "execution_count": 4,
   "metadata": {},
   "outputs": [],
   "source": [
    "import numpy as np\n"
   ]
  },
  {
   "cell_type": "code",
   "execution_count": 5,
   "metadata": {},
   "outputs": [],
   "source": [
    "coups = []\n",
    "for i in range(1, 7):\n",
    "    for j in range(i + 1, 7):\n",
    "        coups.append({i, j})\n"
   ]
  },
  {
   "cell_type": "code",
   "execution_count": 6,
   "metadata": {},
   "outputs": [],
   "source": [
    "class gen_single:\n",
    "    def __init__(self):\n",
    "        \"\"\"\n",
    "        生成单次对局\n",
    "        \"\"\"\n",
    "        # Initialisation\n",
    "        self.liste = [np.random.choice(range(15))]\n",
    "        i = self.liste[-1]\n",
    "        # La suite\n",
    "        while i != 30:\n",
    "            interdite = self.restriction(\n",
    "                self.liste\n",
    "            )  # Générer les coups interdite selon la règle\n",
    "            possible = list(set(range(15)) - interdite)\n",
    "\n",
    "            if possible != []:\n",
    "                i = np.random.choice(possible)\n",
    "            else:\n",
    "                i = 30\n",
    "\n",
    "            self.liste.append(i)\n",
    "        self.liste.extend(list(np.zeros(16 - len(self.liste))))\n",
    "        self.JI = self.liste[::2]\n",
    "        self.JP = self.liste[1::2]\n",
    "\n",
    "    def restriction(self, liste):\n",
    "        \"\"\"\n",
    "        Donner les coups interdit selon les lignes déjà traitées(conservée dans liste)\n",
    "        指出哪些线是不能画的\n",
    "        \"\"\"\n",
    "        interdite = liste.copy()\n",
    "        if len(liste) < 2:\n",
    "            liste_self = []  # 自己划过的线\n",
    "        else:\n",
    "            liste_self = liste[:-2:2]  # 自己划过的线\n",
    "        for i in liste_self:\n",
    "            # 遍历自己已经画过的线\n",
    "            points = set(range(1, 7))\n",
    "            points = points - coups[i]\n",
    "            for j in points:\n",
    "                # 遍历和线i相连的其他线\n",
    "                x, y = list(coups[i])\n",
    "                m, n = list(set([x, j]))\n",
    "                linenomx = -0.5 * m ** 2 + 5.5 * m + n - 7  # 顶点j对应的一根连线的编号\n",
    "                m, n = list(set([y, j]))\n",
    "                linenomy = -0.5 * m ** 2 + 5.5 * m + n - 7  # 另一根与j连线的编号\n",
    "                if linenomx in liste_self:  # 如果相连的其他线也在liste_self中，那么就可以找到对应三角形的第三边\n",
    "                    interdite.append(linenomy)\n",
    "                elif linenomy in liste_self:\n",
    "                    interdite.append(linenomx)\n",
    "        return set(interdite)\n"
   ]
  },
  {
   "cell_type": "code",
   "execution_count": 7,
   "metadata": {},
   "outputs": [
    {
     "data": {
      "text/plain": [
       "[9, 5, 3, 1, 2, 13, 12, 7, 6, 8, 11, 14, 4, 30, 0.0, 0.0]"
      ]
     },
     "execution_count": 7,
     "metadata": {},
     "output_type": "execute_result"
    }
   ],
   "source": [
    "gen_single().liste\n"
   ]
  },
  {
   "cell_type": "code",
   "execution_count": 8,
   "metadata": {},
   "outputs": [
    {
     "data": {
      "text/plain": [
       "array([[ 2,  3,  0, ..., 30,  0,  0],\n",
       "       [ 5, 12,  4, ...,  0,  0,  0],\n",
       "       [ 0,  5,  3, ..., 30,  0,  0],\n",
       "       ...,\n",
       "       [ 0, 14, 10, ..., 30,  0,  0],\n",
       "       [ 5,  1, 10, ...,  0,  0,  0],\n",
       "       [ 2,  1,  9, ...,  0,  0,  0]])"
      ]
     },
     "execution_count": 8,
     "metadata": {},
     "output_type": "execute_result"
    }
   ],
   "source": [
    "data = np.array([gen_single().liste for i in range(1000)]).astype(int)\n",
    "data\n"
   ]
  },
  {
   "cell_type": "markdown",
   "metadata": {},
   "source": [
    "考虑把对局可视化的代码写一下"
   ]
  },
  {
   "cell_type": "markdown",
   "metadata": {},
   "source": [
    "# 1x01 Première analyse "
   ]
  },
  {
   "cell_type": "code",
   "execution_count": 9,
   "metadata": {},
   "outputs": [],
   "source": [
    "import matplotlib.pyplot as plt\n",
    "from sklearn.decomposition import PCA\n"
   ]
  },
  {
   "cell_type": "code",
   "execution_count": 10,
   "metadata": {},
   "outputs": [],
   "source": [
    "pca = PCA(n_components=0.7)  # On se limite aux trois premiers axes\n",
    "A1 = data.copy()\n",
    "res1 = pca.fit(A1)\n"
   ]
  },
  {
   "cell_type": "code",
   "execution_count": 11,
   "metadata": {},
   "outputs": [
    {
     "data": {
      "text/plain": [
       "(array([-0.00672262,  0.00250193,  0.01799336, -0.00981533,  0.00739722,\n",
       "        -0.00428614, -0.56802656, -0.04931168]),\n",
       " array([-0.0028346 , -0.00796928,  0.00912708,  0.01165601,  0.0086837 ,\n",
       "        -0.02820357,  0.8204897 , -0.00215257]))"
      ]
     },
     "execution_count": 11,
     "metadata": {},
     "output_type": "execute_result"
    }
   ],
   "source": [
    "base = res1.components_  # 导出两个主特征向量\n",
    "\n",
    "base[0][0::2], base[0][1::2]\n",
    "\n"
   ]
  },
  {
   "cell_type": "markdown",
   "metadata": {},
   "source": [
    "尝试解读一下这些向量"
   ]
  },
  {
   "cell_type": "code",
   "execution_count": 12,
   "metadata": {},
   "outputs": [
    {
     "data": {
      "image/png": "[encoded data removed]",
      "text/plain": [
       "<Figure size 432x288 with 1 Axes>"
      ]
     },
     "metadata": {
      "needs_background": "light"
     },
     "output_type": "display_data"
    }
   ],
   "source": [
    "XX = res1.transform(A1)\n",
    "\n",
    "n, p = A1.shape\n",
    "for i in range(n):\n",
    "    if (np.where(A1[i] == 30)[-1] % 2) == 0:\n",
    "        plt.scatter(XX[i, 0], XX[i, 1], color=\"r\")  # 红点先手胜\n",
    "        if i == 23:\n",
    "            # plt.text(0, 0,s=str(A1[i]))\n",
    "            plt.text(XX[i, 0], XX[i, 1], s=str(A1[i]))  # 标出一个点的数据，分析一下\n",
    "    else:\n",
    "        plt.scatter(XX[i, 0], XX[i, 1], color=\"b\")  # 蓝点后手胜\n"
   ]
  },
  {
   "cell_type": "markdown",
   "metadata": {},
   "source": [
    "# 1x02 Analyse discriminante"
   ]
  },
  {
   "cell_type": "code",
   "execution_count": 13,
   "metadata": {},
   "outputs": [],
   "source": [
    "A_Gagne = []\n",
    "B_Gagne = []\n",
    "gagneur = []\n",
    "\n",
    "for i in range(n):\n",
    "    if (np.where(A1[i] == 30)[0] % 2) == 0:\n",
    "        A_Gagne.append(list(A1[i]))\n",
    "        gagneur.append(2)\n",
    "    else:\n",
    "        B_Gagne.append(list(A1[i]))\n",
    "        gagneur.append(1)\n",
    "A_Gagne = np.array(A_Gagne)\n",
    "B_Gagne = np.array(B_Gagne)\n"
   ]
  },
  {
   "cell_type": "code",
   "execution_count": 14,
   "metadata": {},
   "outputs": [],
   "source": [
    "from sklearn.discriminant_analysis import LinearDiscriminantAnalysis as lda\n"
   ]
  },
  {
   "cell_type": "code",
   "execution_count": 15,
   "metadata": {},
   "outputs": [],
   "source": [
    "my_lda = lda(n_components=1)  # 这里不让我n_components大于1（就是主平面只有1维），暂时不知道问题出在哪\n",
    "res = my_lda.fit(data, gagneur)\n",
    "X = res.transform(data)  # Une projection ? Laquelle ??\n",
    "\n"
   ]
  },
  {
   "cell_type": "code",
   "execution_count": 16,
   "metadata": {},
   "outputs": [
    {
     "data": {
      "text/plain": [
       "<matplotlib.collections.PathCollection at 0x2d0b8c86d08>"
      ]
     },
     "execution_count": 16,
     "metadata": {},
     "output_type": "execute_result"
    },
    {
     "data": {
      "image/png": "[encoded data removed]",
      "text/plain": [
       "<Figure size 432x288 with 1 Axes>"
      ]
     },
     "metadata": {
      "needs_background": "light"
     },
     "output_type": "display_data"
    }
   ],
   "source": [
    "plt.scatter(X[:, 0], X[:, 0], c=gagneur)  # 右上先手胜，左下后手胜\n",
    "# for i in range(len(a)):\n",
    "#    plt.text(X[i, 0], X[i, 1], s=Noms[i])\n"
   ]
  },
  {
   "cell_type": "markdown",
   "metadata": {},
   "source": [
    "# 2x01 Construction de fonction d'évaluation"
   ]
  },
  {
   "cell_type": "code",
   "execution_count": null,
   "metadata": {},
   "outputs": [],
   "source": []
  },
  {
   "cell_type": "markdown",
   "metadata": {},
   "source": [
    "# 2x02 实现min-max"
   ]
  },
  {
   "cell_type": "code",
   "execution_count": 88,
   "metadata": {},
   "outputs": [],
   "source": [
    "class coup:\n",
    "    def __init__(self, JI, JP,type=max):\n",
    "        self.JI, self.JP = JI, JP\n",
    "        self.max, self.min = 15, 0\n",
    "        self.type=type\n",
    "        self.children = []\n",
    "        self.possible = self.restriction(self.type)\n",
    "        self.eval()\n",
    "        self.predict()\n",
    "\n",
    "    def eval(self):\n",
    "        \"\"\"\n",
    "        给这个节点打分（用了剩余可画线数的方式评分）\n",
    "        分数保存到self.score\n",
    "        \"\"\"\n",
    "        self.score = len(self.possible)\n",
    "\n",
    "\n",
    "    def restriction(self,type):\n",
    "        J=self.JI\n",
    "        if type==min:\n",
    "            J=self.JP\n",
    "        liste = set.union(self.JI, self.JP)\n",
    "        interditeI = liste.copy()\n",
    "\n",
    "        for i in J:\n",
    "            # 遍历自己已经画过的线\n",
    "            points = set(range(1, 7))\n",
    "            points = points - coups[i]\n",
    "            for j in points:\n",
    "                # 遍历和线i相连的其他线\n",
    "                x, y = list(coups[i])\n",
    "                m, n = list(set([x, j]))\n",
    "                linenomx = -0.5 * m ** 2 + 5.5 * m + n - 7  # 顶点j对应的一根连线的编号\n",
    "                m, n = list(set([y, j]))\n",
    "                linenomy = -0.5 * m ** 2 + 5.5 * m + n - 7  # 另一根与j连线的编号\n",
    "                if linenomx in J:  # 如果相连的其他线也在self.JI中，那么就可以找到对应三角形的第三边\n",
    "                    interditeI.add(linenomy)\n",
    "                elif linenomy in J:\n",
    "                    interditeI.add(linenomx)\n",
    "        return set(range(15)) - interditeI\n",
    "        \n",
    "\n",
    "    def predict(self):\n",
    "        \"\"\"\n",
    "        遍历下一步的可能性\n",
    "        \"\"\"\n",
    "        if self.isLeaf() == False:\n",
    "            for i in self.possible:\n",
    "                if self.type==max:\n",
    "                    self.children.append(coup(self.JP, set.union(self.JI, set([i])),min))\n",
    "                    self.max_score(self.children[-1])\n",
    "                elif self.type==min: \n",
    "                    self.children.append(coup(self.JP, set.union(self.JI, set([i])),max))\n",
    "                    self.min_score(self.children[-1])\n",
    "\n",
    "    def isLeaf(self):\n",
    "        \"\"\"判断某结点是否为最终结点（无子结点）\"\"\"\n",
    "        if self.possible == []:\n",
    "            return True\n",
    "        else:\n",
    "            return False\n",
    "\n",
    "    def max_score(self,child):\n",
    "        if child.score < self.max:\n",
    "            self.max = child.score\n",
    "\n",
    "    def min_score(self,child):\n",
    "        if child.score > self.max:\n",
    "            self.min = child.score\n"
   ]
  },
  {
   "cell_type": "code",
   "execution_count": 89,
   "metadata": {},
   "outputs": [
    {
     "data": {
      "text/plain": [
       "({0, 8, 11, 12, 13}, {3, 6, 7, 10, 14})"
      ]
     },
     "execution_count": 89,
     "metadata": {},
     "output_type": "execute_result"
    }
   ],
   "source": [
    "# 生成一个对局情况\n",
    "n = 5\n",
    "liste = gen_single().liste\n",
    "JI, JP = set(liste[: 2 * n - 1 : 2]), set(liste[1 : 2 * n : 2])\n",
    "JI, JP\n",
    "\n"
   ]
  },
  {
   "cell_type": "code",
   "execution_count": 92,
   "metadata": {},
   "outputs": [
    {
     "data": {
      "text/plain": [
       "[[({0, 1, 8, 11, 12, 13}, {2, 3, 6, 7, 10, 14}, 0, (0, 1))],\n",
       " [({0, 2, 8, 11, 12, 13}, {1, 3, 6, 7, 10, 14}, 0, (0, 1))],\n",
       " [({0, 1, 8, 11, 12, 13}, {2, 3, 6, 7, 10, 14}, 0, (0, 1))],\n",
       " [({0, 2, 8, 11, 12, 13}, {1, 3, 6, 7, 10, 14}, 0, (0, 1))]]"
      ]
     },
     "execution_count": 92,
     "metadata": {},
     "output_type": "execute_result"
    }
   ],
   "source": [
    "coup1 = coup(JI, JP)\n",
    "coup1.predict()\n",
    "tree=[[(gchild.JI, gchild.JP, gchild.score,(coup1.min,coup1.max)) for gchild in child.children] for child in coup1.children]\n",
    "tree\n"
   ]
  },
  {
   "cell_type": "code",
   "execution_count": 93,
   "metadata": {},
   "outputs": [],
   "source": [
    "class game:\n",
    "    def __init__(self, JI, JP):\n",
    "        self.JI = JI\n",
    "        self.JP = JP\n",
    "\n",
    "    def update(self, JI=set(), JP=set()):\n",
    "        self.JI += JI\n",
    "        self.JP += JP\n",
    "\n",
    "    def choix(self):  # todo\n",
    "        for coups in self.possible():\n",
    "            pass\n",
    "        i = ...\n",
    "        print(\"choix:\" + str(i))\n",
    "        return i\n",
    "\n"
   ]
  },
  {
   "cell_type": "code",
   "execution_count": null,
   "metadata": {},
   "outputs": [],
   "source": []
  }
 ],
 "metadata": {
  "interpreter": {
   "hash": "b57eb35ccf7b1e82982c2b74f490bf74826478bc33921aaf32e018eec6aca0fa"
  },
  "kernelspec": {
   "display_name": "Python 3.7.9 ('env0')",
   "language": "python",
   "name": "python3"
  },
  "language_info": {
   "codemirror_mode": {
    "name": "ipython",
    "version": 3
   },
   "file_extension": ".py",
   "mimetype": "text/x-python",
   "name": "python",
   "nbconvert_exporter": "python",
   "pygments_lexer": "ipython3",
   "version": "3.7.9"
  },
  "orig_nbformat": 4
 },
 "nbformat": 4,
 "nbformat_minor": 2
}
