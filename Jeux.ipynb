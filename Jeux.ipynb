{
 "cells": [
  {
   "cell_type": "markdown",
   "metadata": {},
   "source": [
    "# 0X01 Génération des parties"
   ]
  },
  {
   "cell_type": "code",
   "execution_count": 48,
   "metadata": {},
   "outputs": [],
   "source": [
    "import numpy as np"
   ]
  },
  {
   "cell_type": "code",
   "execution_count": 49,
   "metadata": {},
   "outputs": [],
   "source": [
    "coups = []\n",
    "for i in range(1, 7):\n",
    "    for j in range(i + 1, 7):\n",
    "        coups.append({i, j})"
   ]
  },
  {
   "cell_type": "code",
   "execution_count": 50,
   "metadata": {},
   "outputs": [],
   "source": [
    "def gen_single():\n",
    "    \"\"\"\n",
    "    生成单次对局\n",
    "    \"\"\"\n",
    "    # Initialisation\n",
    "    liste = [np.random.choice(range(15))]\n",
    "    i = liste[-1]\n",
    "    # La suite\n",
    "    while i != 30:\n",
    "        interdite = restriction(liste)  # Générer les coups interdite selon la règle\n",
    "        possible = list(set(range(15)) - interdite)\n",
    "\n",
    "        if possible != []:\n",
    "            i = np.random.choice(possible)\n",
    "        else:\n",
    "            i = 30\n",
    "\n",
    "        liste.append(i)\n",
    "    liste.extend(list(np.zeros(15 - len(liste))))\n",
    "    return liste\n",
    "\n",
    "\n",
    "def restriction(liste):\n",
    "    \"\"\"\n",
    "    Donner les coups interdit selon les lignes déjà traitées(conservée dans liste)\n",
    "    指出哪些线是不能画的\n",
    "    \"\"\"\n",
    "    interdite = liste.copy()\n",
    "    liste_self=liste[:-1:2] #自己划过的线\n",
    "    for i in liste_self:\n",
    "        # 遍历自己已经画过的线\n",
    "        points = set(range(1, 7))\n",
    "        points = points - coups[i]\n",
    "        for j in points:\n",
    "            # 遍历和线i相连的其他线\n",
    "            x, y = list(coups[i])\n",
    "            m, n = list(set([x, j]))\n",
    "            linenomx = -0.5 * m ** 2 + 5.5 * m + n - 7  # 顶点j对应的一根连线的编号\n",
    "            m, n = list(set([y, j]))\n",
    "            linenomy = -0.5 * m ** 2 + 5.5 * m + n - 7  # 另一根与j连线的编号\n",
    "            if linenomx in liste_self:  # 如果相连的其他线也在liste_self中，那么就可以找到对应三角形的第三边\n",
    "                interdite.append(linenomy)\n",
    "            elif linenomy in liste_self:\n",
    "                interdite.append(linenomx)\n",
    "    return set(interdite)\n"
   ]
  },
  {
   "cell_type": "code",
   "execution_count": 51,
   "metadata": {},
   "outputs": [
    {
     "data": {
      "text/plain": [
       "[4, 5, 0, 12, 6, 9, 13, 10, 3, 1, 11, 30, 0.0, 0.0, 0.0]"
      ]
     },
     "execution_count": 51,
     "metadata": {},
     "output_type": "execute_result"
    }
   ],
   "source": [
    "gen_single()"
   ]
  },
  {
   "cell_type": "code",
   "execution_count": 67,
   "metadata": {},
   "outputs": [
    {
     "data": {
      "text/plain": [
       "array([[ 7,  1,  4, ...,  0,  0,  0],\n",
       "       [ 7, 13,  1, ...,  0,  0,  0],\n",
       "       [ 5,  2,  7, ...,  0,  0,  0],\n",
       "       ...,\n",
       "       [ 8, 14, 10, ..., 30,  0,  0],\n",
       "       [13,  3,  0, ..., 30,  0,  0],\n",
       "       [ 7,  9,  0, ..., 30,  0,  0]])"
      ]
     },
     "execution_count": 67,
     "metadata": {},
     "output_type": "execute_result"
    }
   ],
   "source": [
    "data = np.array([gen_single() for i in range(1000)]).astype(int)\n",
    "data\n"
   ]
  },
  {
   "cell_type": "markdown",
   "metadata": {},
   "source": [
    "考虑把对局可视化的代码写一下"
   ]
  },
  {
   "cell_type": "markdown",
   "metadata": {},
   "source": [
    "# 1x01 Première analyse "
   ]
  },
  {
   "cell_type": "code",
   "execution_count": 63,
   "metadata": {},
   "outputs": [],
   "source": [
    "import matplotlib.pyplot as plt\n",
    "from sklearn.decomposition import PCA\n"
   ]
  },
  {
   "cell_type": "code",
   "execution_count": 64,
   "metadata": {},
   "outputs": [],
   "source": [
    "pca = PCA(n_components=3)  # On se limite aux trois premiers axes\n",
    "A1 = data.copy()\n",
    "res1 = pca.fit(A1)\n"
   ]
  },
  {
   "cell_type": "code",
   "execution_count": 65,
   "metadata": {},
   "outputs": [
    {
     "data": {
      "text/plain": [
       "array([[ 3.59103434e-03,  1.13859303e-02, -2.45027902e-02,\n",
       "        -1.57612390e-02,  1.11680043e-02,  1.22187951e-02,\n",
       "         3.54945877e-03, -1.09817365e-02, -7.38698085e-04,\n",
       "        -2.34210566e-03,  3.00223385e-02,  2.92168365e-01,\n",
       "        -8.08474774e-01,  5.08372434e-01,  1.60537832e-02],\n",
       "       [ 7.60125187e-03,  2.08853826e-03,  5.59137896e-03,\n",
       "        -1.59297874e-02,  9.73941768e-03, -1.95756131e-02,\n",
       "         1.86951487e-02,  1.16829559e-02,  9.40861013e-03,\n",
       "        -1.74658506e-02, -3.90116363e-02, -6.39338233e-01,\n",
       "         2.28032267e-01,  7.32074472e-01,  9.38973927e-03],\n",
       "       [-3.67833380e-02,  8.03699798e-03, -1.02386517e-01,\n",
       "         1.78177264e-02, -5.06261624e-02,  7.33353213e-02,\n",
       "        -2.52320549e-02,  9.01078746e-03, -9.45300317e-03,\n",
       "         4.27093366e-02,  7.94985933e-01, -4.43087474e-01,\n",
       "        -2.84345109e-01, -2.51124310e-01,  7.04616469e-02]])"
      ]
     },
     "execution_count": 65,
     "metadata": {},
     "output_type": "execute_result"
    }
   ],
   "source": [
    "res1.components_  # 导出两个主特征向量\n",
    "\n"
   ]
  },
  {
   "cell_type": "markdown",
   "metadata": {},
   "source": [
    "尝试解读一下这些向量"
   ]
  },
  {
   "cell_type": "code",
   "execution_count": 71,
   "metadata": {},
   "outputs": [
    {
     "data": {
      "image/png": "[encoded data removed]",
      "text/plain": [
       "<Figure size 432x288 with 1 Axes>"
      ]
     },
     "metadata": {
      "needs_background": "light"
     },
     "output_type": "display_data"
    }
   ],
   "source": [
    "XX = res1.transform(A1)\n",
    "\n",
    "n, p = A1.shape\n",
    "for i in range(n):\n",
    "    if (np.where(A1[i] == 30)[-1] % 2) == 0:\n",
    "        plt.scatter(XX[i, 0], XX[i, 1], color=\"r\")  # 红点先手胜\n",
    "        if i==23:\n",
    "            #plt.text(0, 0,s=str(A1[i]))\n",
    "            plt.text(XX[i, 0], XX[i, 1],s=str(A1[i]))#标出一个点的数据，分析一下\n",
    "    else:\n",
    "        plt.scatter(XX[i, 0], XX[i, 1], color=\"b\")  # 蓝点后手胜\n"
   ]
  },
  {
   "cell_type": "markdown",
   "metadata": {},
   "source": [
    "# 1x02 Analyse discriminante"
   ]
  },
  {
   "cell_type": "code",
   "execution_count": 57,
   "metadata": {},
   "outputs": [],
   "source": [
    "A_Gagne = []\n",
    "B_Gagne = []\n",
    "gagneur = []\n",
    "\n",
    "for i in range(n):\n",
    "    if (np.where(A1[i] == 30)[0] % 2) == 0:\n",
    "        A_Gagne.append(list(A1[i]))\n",
    "        gagneur.append(2)\n",
    "    else:\n",
    "        B_Gagne.append(list(A1[i]))\n",
    "        gagneur.append(1)\n",
    "A_Gagne = np.array(A_Gagne)\n",
    "B_Gagne = np.array(B_Gagne)"
   ]
  },
  {
   "cell_type": "code",
   "execution_count": 58,
   "metadata": {},
   "outputs": [],
   "source": [
    "from sklearn.discriminant_analysis import LinearDiscriminantAnalysis as lda"
   ]
  },
  {
   "cell_type": "code",
   "execution_count": 59,
   "metadata": {},
   "outputs": [],
   "source": [
    "my_lda = lda(n_components=1) # 这里不让我n_components大于1（就是主平面只有1维），暂时不知道问题出在哪\n",
    "res = my_lda.fit(data, gagneur)\n",
    "X = res.transform(data)            # Une projection ? Laquelle ??"
   ]
  },
  {
   "cell_type": "code",
   "execution_count": 60,
   "metadata": {},
   "outputs": [
    {
     "data": {
      "text/plain": [
       "<matplotlib.collections.PathCollection at 0x28c1522bb08>"
      ]
     },
     "execution_count": 60,
     "metadata": {},
     "output_type": "execute_result"
    },
    {
     "data": {
      "image/png": "[encoded data removed]",
      "text/plain": [
       "<Figure size 432x288 with 1 Axes>"
      ]
     },
     "metadata": {
      "needs_background": "light"
     },
     "output_type": "display_data"
    }
   ],
   "source": [
    "plt.scatter(X[:, 0], X[:, 0],c=gagneur) # 右上先手胜，左下后手胜\n",
    "#for i in range(len(a)):\n",
    "#    plt.text(X[i, 0], X[i, 1], s=Noms[i])"
   ]
  },
  {
   "cell_type": "markdown",
   "metadata": {},
   "source": [
    "# 2x01 Construction de fonction d'évaluation"
   ]
  },
  {
   "cell_type": "code",
   "execution_count": 61,
   "metadata": {},
   "outputs": [],
   "source": [
    "def choix():\n",
    "    no = 0\n",
    "    return no\n"
   ]
  },
  {
   "cell_type": "code",
   "execution_count": null,
   "metadata": {},
   "outputs": [],
   "source": []
  }
 ],
 "metadata": {
  "interpreter": {
   "hash": "b57eb35ccf7b1e82982c2b74f490bf74826478bc33921aaf32e018eec6aca0fa"
  },
  "kernelspec": {
   "display_name": "Python 3.7.9 ('env0')",
   "language": "python",
   "name": "python3"
  },
  "language_info": {
   "codemirror_mode": {
    "name": "ipython",
    "version": 3
   },
   "file_extension": ".py",
   "mimetype": "text/x-python",
   "name": "python",
   "nbconvert_exporter": "python",
   "pygments_lexer": "ipython3",
   "version": "3.7.9"
  },
  "orig_nbformat": 4
 },
 "nbformat": 4,
 "nbformat_minor": 2
}
